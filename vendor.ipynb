{
 "cells": [
  {
   "cell_type": "code",
   "execution_count": 1,
   "metadata": {},
   "outputs": [
    {
     "name": "stdout",
     "output_type": "stream",
     "text": [
      "begin_inventory.csv: (206529, 9)\n",
      "Successfully inserted 206529 rows into table 'begin_inventory'\n",
      "end_inventory.csv: (224489, 9)\n",
      "Successfully inserted 224489 rows into table 'end_inventory'\n",
      "purchases.csv: (2372474, 16)\n",
      "Successfully inserted 2372474 rows into table 'purchases'\n",
      "purchase_prices.csv: (12261, 9)\n",
      "Successfully inserted 12261 rows into table 'purchase_prices'\n",
      "sales.csv: (12825363, 14)\n",
      "Successfully inserted 12825363 rows into table 'sales'\n",
      "vendor_invoice.csv: (5543, 10)\n",
      "Successfully inserted 5543 rows into table 'vendor_invoice'\n",
      "Total Time Taken: 4.94 minutes\n"
     ]
    }
   ],
   "source": [
    "import pandas as pd\n",
    "import os\n",
    "from sqlalchemy import create_engine\n",
    "import logging\n",
    "import time\n",
    "\n",
    "logging.basicConfig(\n",
    "    filename=\"logs/ingestion_db.log\",\n",
    "    level=logging.DEBUG,\n",
    "    format=\"%(asctime)s - %(levelname)s - %(message)s\",\n",
    "    filemode=\"a\"\n",
    ")\n",
    "\n",
    "# Create engine (SQLite is easiest for testing)\n",
    "engine = create_engine('sqlite:///test_database.db')\n",
    "\n",
    "def ingest_db(df, table_name, engine):\n",
    "    '''this function will ingest the dataframe into database table'''\n",
    "    try:\n",
    "        df.to_sql(table_name, con=engine, if_exists='replace', index=False)\n",
    "        print(f\"Successfully inserted {len(df)} rows into table '{table_name}'\")\n",
    "        logging.info(f\"Successfully inserted {len(df)} rows into table '{table_name}'\")\n",
    "    except Exception as e:\n",
    "        print(f\"Error inserting data for table '{table_name}': {e}\")\n",
    "        logging.error(f\"Error inserting data for table '{table_name}': {e}\")\n",
    "\n",
    "def load_raw_data():\n",
    "    start = time.time()  # Fixed: removed the argument\n",
    "    \n",
    "    # Your loop - properly indented inside the function\n",
    "    for file in os.listdir('data'):\n",
    "        if file.endswith('.csv'):\n",
    "            try:\n",
    "                df = pd.read_csv(os.path.join('data', file))\n",
    "                logging.info(f'Ingesting {file} in db')\n",
    "                print(f\"{file}: {df.shape}\")\n",
    "                ingest_db(df, file[:-4], engine)\n",
    "            except Exception as e:\n",
    "                print(f\"Error processing {file}: {e}\")\n",
    "                logging.error(f\"Error processing {file}: {e}\")\n",
    "    \n",
    "    end = time.time()  # Moved inside the function\n",
    "    total_time = (end - start) / 60\n",
    "    logging.info('-----------------------Ingestion Complete------------------')\n",
    "    logging.info(f'Total Time Taken: {total_time:.2f} minutes')\n",
    "    print(f'Total Time Taken: {total_time:.2f} minutes')\n",
    "\n",
    "if __name__ == '__main__':\n",
    "    load_raw_data()"
   ]
  },
  {
   "cell_type": "code",
   "execution_count": null,
   "metadata": {},
   "outputs": [],
   "source": []
  }
 ],
 "metadata": {
  "kernelspec": {
   "display_name": "Python 3",
   "language": "python",
   "name": "python3"
  },
  "language_info": {
   "codemirror_mode": {
    "name": "ipython",
    "version": 3
   },
   "file_extension": ".py",
   "mimetype": "text/x-python",
   "name": "python",
   "nbconvert_exporter": "python",
   "pygments_lexer": "ipython3",
   "version": "3.9.0"
  },
  "orig_nbformat": 4
 },
 "nbformat": 4,
 "nbformat_minor": 2
}
